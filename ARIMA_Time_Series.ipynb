{
  "nbformat": 4,
  "nbformat_minor": 0,
  "metadata": {
    "kernelspec": {
      "display_name": "Python 3",
      "language": "python",
      "name": "python3"
    },
    "language_info": {
      "codemirror_mode": {
        "name": "ipython",
        "version": 3
      },
      "file_extension": ".py",
      "mimetype": "text/x-python",
      "name": "python",
      "nbconvert_exporter": "python",
      "pygments_lexer": "ipython3",
      "version": "3.6.4"
    },
    "colab": {
      "name": "ARIMA - Time Series.ipynb",
      "provenance": [],
      "collapsed_sections": [],
      "include_colab_link": true
    }
  },
  "cells": [
    {
      "cell_type": "markdown",
      "metadata": {
        "id": "view-in-github",
        "colab_type": "text"
      },
      "source": [
        "<a href=\"https://colab.research.google.com/github/brianferrell787/Time-Series-Analysis-forecasting-with-ARIME-in-google-colab/blob/master/ARIMA_Time_Series.ipynb\" target=\"_parent\"><img src=\"https://colab.research.google.com/assets/colab-badge.svg\" alt=\"Open In Colab\"/></a>"
      ]
    },
    {
      "cell_type": "markdown",
      "metadata": {
        "id": "Fk38Knq6C-t7",
        "colab_type": "text"
      },
      "source": [
        "# Time Series Forescasting"
      ]
    },
    {
      "cell_type": "code",
      "metadata": {
        "id": "ux0k-gsnC-uA",
        "colab_type": "code",
        "colab": {}
      },
      "source": [
        "import pandas as pd\n",
        "from pandas import datetime\n",
        "import matplotlib.pyplot as plt"
      ],
      "execution_count": null,
      "outputs": []
    },
    {
      "cell_type": "code",
      "metadata": {
        "id": "wtr0Q0BmEifk",
        "colab_type": "code",
        "colab": {
          "resources": {
            "http://localhost:8080/nbextensions/google.colab/files.js": {
              "data": "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",
              "ok": true,
              "headers": [
                [
                  "content-type",
                  "application/javascript"
                ]
              ],
              "status": 200,
              "status_text": ""
            }
          },
          "base_uri": "https://localhost:8080/",
          "height": 91
        },
        "outputId": "29cee94f-9aac-4d6b-e073-4f801b1013a4"
      },
      "source": [
        "from google.colab import files\n",
        "uploaded = files.upload()\n",
        "for fn in uploaded.keys():\n",
        "  print('User uploaded file \"{name}\" with length {length} bytes'.format(\n",
        "      name=fn, length=len(uploaded[fn])))"
      ],
      "execution_count": null,
      "outputs": [
        {
          "output_type": "display_data",
          "data": {
            "text/html": [
              "\n",
              "     <input type=\"file\" id=\"files-e590c1ad-e1b2-48a2-aad6-1a02f78f0013\" name=\"files[]\" multiple disabled />\n",
              "     <output id=\"result-e590c1ad-e1b2-48a2-aad6-1a02f78f0013\">\n",
              "      Upload widget is only available when the cell has been executed in the\n",
              "      current browser session. Please rerun this cell to enable.\n",
              "      </output>\n",
              "      <script src=\"/nbextensions/google.colab/files.js\"></script> "
            ],
            "text/plain": [
              "<IPython.core.display.HTML object>"
            ]
          },
          "metadata": {
            "tags": []
          }
        },
        {
          "output_type": "stream",
          "text": [
            "Saving ARIMA.csv to ARIMA (1).csv\n",
            "User uploaded file \"ARIMA.csv\" with length 1756 bytes\n"
          ],
          "name": "stdout"
        }
      ]
    },
    {
      "cell_type": "code",
      "metadata": {
        "id": "znXuyoEQC-uF",
        "colab_type": "code",
        "colab": {}
      },
      "source": [
        "def parser(x):\n",
        "    return datetime.strptime(x,'%M-%Y')\n",
        "\n",
        "sales = pd.read_csv('ARIMA (1).csv',index_col=0, infer_datetime_format=True)"
      ],
      "execution_count": null,
      "outputs": []
    },
    {
      "cell_type": "code",
      "metadata": {
        "id": "b0pSttxPC-uJ",
        "colab_type": "code",
        "colab": {
          "base_uri": "https://localhost:8080/",
          "height": 225
        },
        "outputId": "5a2f3497-33b2-488f-e125-20cc48e9846f"
      },
      "source": [
        "sales.head()"
      ],
      "execution_count": null,
      "outputs": [
        {
          "output_type": "execute_result",
          "data": {
            "text/html": [
              "<div>\n",
              "<style scoped>\n",
              "    .dataframe tbody tr th:only-of-type {\n",
              "        vertical-align: middle;\n",
              "    }\n",
              "\n",
              "    .dataframe tbody tr th {\n",
              "        vertical-align: top;\n",
              "    }\n",
              "\n",
              "    .dataframe thead th {\n",
              "        text-align: right;\n",
              "    }\n",
              "</style>\n",
              "<table border=\"1\" class=\"dataframe\">\n",
              "  <thead>\n",
              "    <tr style=\"text-align: right;\">\n",
              "      <th></th>\n",
              "      <th>Product 10</th>\n",
              "    </tr>\n",
              "    <tr>\n",
              "      <th>Month</th>\n",
              "      <th></th>\n",
              "    </tr>\n",
              "  </thead>\n",
              "  <tbody>\n",
              "    <tr>\n",
              "      <th>Jan-88</th>\n",
              "      <td>8.992</td>\n",
              "    </tr>\n",
              "    <tr>\n",
              "      <th>Feb-88</th>\n",
              "      <td>12.003</td>\n",
              "    </tr>\n",
              "    <tr>\n",
              "      <th>Mar-88</th>\n",
              "      <td>13.758</td>\n",
              "    </tr>\n",
              "    <tr>\n",
              "      <th>Apr-88</th>\n",
              "      <td>12.333</td>\n",
              "    </tr>\n",
              "    <tr>\n",
              "      <th>May-88</th>\n",
              "      <td>11.354</td>\n",
              "    </tr>\n",
              "  </tbody>\n",
              "</table>\n",
              "</div>"
            ],
            "text/plain": [
              "        Product 10\n",
              "Month             \n",
              "Jan-88       8.992\n",
              "Feb-88      12.003\n",
              "Mar-88      13.758\n",
              "Apr-88      12.333\n",
              "May-88      11.354"
            ]
          },
          "metadata": {
            "tags": []
          },
          "execution_count": 35
        }
      ]
    },
    {
      "cell_type": "code",
      "metadata": {
        "id": "x4HITP8IC-uY",
        "colab_type": "code",
        "colab": {
          "base_uri": "https://localhost:8080/",
          "height": 296
        },
        "outputId": "a6209de6-f7bc-40a4-9330-660d4151b3c8"
      },
      "source": [
        "sales.plot()"
      ],
      "execution_count": null,
      "outputs": [
        {
          "output_type": "execute_result",
          "data": {
            "text/plain": [
              "<matplotlib.axes._subplots.AxesSubplot at 0x7f6e3fb0eeb8>"
            ]
          },
          "metadata": {
            "tags": []
          },
          "execution_count": 36
        },
        {
          "output_type": "display_data",
          "data": {
            "image/png": "[encoded data removed]",
            "text/plain": [
              "<Figure size 432x288 with 1 Axes>"
            ]
          },
          "metadata": {
            "tags": [],
            "needs_background": "light"
          }
        }
      ]
    },
    {
      "cell_type": "markdown",
      "metadata": {
        "id": "xl31HW9dC-uh",
        "colab_type": "text"
      },
      "source": [
        "Stationary means mean, variance and covariance is constant over periods."
      ]
    },
    {
      "cell_type": "code",
      "metadata": {
        "id": "gQf7i-xrC-ui",
        "colab_type": "code",
        "colab": {
          "base_uri": "https://localhost:8080/",
          "height": 545
        },
        "outputId": "8ff8d338-8cfb-42f1-e068-ba4e0cfc112a"
      },
      "source": [
        "from statsmodels.graphics.tsaplots import plot_acf\n",
        "plot_acf(sales)"
      ],
      "execution_count": null,
      "outputs": [
        {
          "output_type": "execute_result",
          "data": {
            "image/png": "[encoded data removed]",
            "text/plain": [
              "<Figure size 432x288 with 1 Axes>"
            ]
          },
          "metadata": {
            "tags": []
          },
          "execution_count": 37
        },
        {
          "output_type": "display_data",
          "data": {
            "image/png": "[encoded data removed]",
            "text/plain": [
              "<Figure size 432x288 with 1 Axes>"
            ]
          },
          "metadata": {
            "tags": [],
            "needs_background": "light"
          }
        }
      ]
    },
    {
      "cell_type": "markdown",
      "metadata": {
        "id": "c4t_8QFHC-u2",
        "colab_type": "text"
      },
      "source": [
        "### Converting series to stationary"
      ]
    },
    {
      "cell_type": "code",
      "metadata": {
        "id": "fh5BrR1FC-u8",
        "colab_type": "code",
        "colab": {
          "base_uri": "https://localhost:8080/",
          "height": 225
        },
        "outputId": "54515213-79fc-4eec-9921-bcbc4b2e26b6"
      },
      "source": [
        "sales.head()"
      ],
      "execution_count": null,
      "outputs": [
        {
          "output_type": "execute_result",
          "data": {
            "text/html": [
              "<div>\n",
              "<style scoped>\n",
              "    .dataframe tbody tr th:only-of-type {\n",
              "        vertical-align: middle;\n",
              "    }\n",
              "\n",
              "    .dataframe tbody tr th {\n",
              "        vertical-align: top;\n",
              "    }\n",
              "\n",
              "    .dataframe thead th {\n",
              "        text-align: right;\n",
              "    }\n",
              "</style>\n",
              "<table border=\"1\" class=\"dataframe\">\n",
              "  <thead>\n",
              "    <tr style=\"text-align: right;\">\n",
              "      <th></th>\n",
              "      <th>Product 10</th>\n",
              "    </tr>\n",
              "    <tr>\n",
              "      <th>Month</th>\n",
              "      <th></th>\n",
              "    </tr>\n",
              "  </thead>\n",
              "  <tbody>\n",
              "    <tr>\n",
              "      <th>Jan-88</th>\n",
              "      <td>8.992</td>\n",
              "    </tr>\n",
              "    <tr>\n",
              "      <th>Feb-88</th>\n",
              "      <td>12.003</td>\n",
              "    </tr>\n",
              "    <tr>\n",
              "      <th>Mar-88</th>\n",
              "      <td>13.758</td>\n",
              "    </tr>\n",
              "    <tr>\n",
              "      <th>Apr-88</th>\n",
              "      <td>12.333</td>\n",
              "    </tr>\n",
              "    <tr>\n",
              "      <th>May-88</th>\n",
              "      <td>11.354</td>\n",
              "    </tr>\n",
              "  </tbody>\n",
              "</table>\n",
              "</div>"
            ],
            "text/plain": [
              "        Product 10\n",
              "Month             \n",
              "Jan-88       8.992\n",
              "Feb-88      12.003\n",
              "Mar-88      13.758\n",
              "Apr-88      12.333\n",
              "May-88      11.354"
            ]
          },
          "metadata": {
            "tags": []
          },
          "execution_count": 38
        }
      ]
    },
    {
      "cell_type": "code",
      "metadata": {
        "id": "uSx2hSHSC-vE",
        "colab_type": "code",
        "colab": {
          "base_uri": "https://localhost:8080/",
          "height": 431
        },
        "outputId": "cc5c95e9-a266-4831-f24c-90b2991eab2a"
      },
      "source": [
        "sales.shift(1)"
      ],
      "execution_count": null,
      "outputs": [
        {
          "output_type": "execute_result",
          "data": {
            "text/html": [
              "<div>\n",
              "<style scoped>\n",
              "    .dataframe tbody tr th:only-of-type {\n",
              "        vertical-align: middle;\n",
              "    }\n",
              "\n",
              "    .dataframe tbody tr th {\n",
              "        vertical-align: top;\n",
              "    }\n",
              "\n",
              "    .dataframe thead th {\n",
              "        text-align: right;\n",
              "    }\n",
              "</style>\n",
              "<table border=\"1\" class=\"dataframe\">\n",
              "  <thead>\n",
              "    <tr style=\"text-align: right;\">\n",
              "      <th></th>\n",
              "      <th>Product 10</th>\n",
              "    </tr>\n",
              "    <tr>\n",
              "      <th>Month</th>\n",
              "      <th></th>\n",
              "    </tr>\n",
              "  </thead>\n",
              "  <tbody>\n",
              "    <tr>\n",
              "      <th>Jan-88</th>\n",
              "      <td>NaN</td>\n",
              "    </tr>\n",
              "    <tr>\n",
              "      <th>Feb-88</th>\n",
              "      <td>8.992</td>\n",
              "    </tr>\n",
              "    <tr>\n",
              "      <th>Mar-88</th>\n",
              "      <td>12.003</td>\n",
              "    </tr>\n",
              "    <tr>\n",
              "      <th>Apr-88</th>\n",
              "      <td>13.758</td>\n",
              "    </tr>\n",
              "    <tr>\n",
              "      <th>May-88</th>\n",
              "      <td>12.333</td>\n",
              "    </tr>\n",
              "    <tr>\n",
              "      <th>...</th>\n",
              "      <td>...</td>\n",
              "    </tr>\n",
              "    <tr>\n",
              "      <th>Jun-97</th>\n",
              "      <td>15.534</td>\n",
              "    </tr>\n",
              "    <tr>\n",
              "      <th>Jul-97</th>\n",
              "      <td>14.637</td>\n",
              "    </tr>\n",
              "    <tr>\n",
              "      <th>Aug-97</th>\n",
              "      <td>11.111</td>\n",
              "    </tr>\n",
              "    <tr>\n",
              "      <th>Sep-97</th>\n",
              "      <td>13.488</td>\n",
              "    </tr>\n",
              "    <tr>\n",
              "      <th>Oct-97</th>\n",
              "      <td>14.727</td>\n",
              "    </tr>\n",
              "  </tbody>\n",
              "</table>\n",
              "<p>118 rows × 1 columns</p>\n",
              "</div>"
            ],
            "text/plain": [
              "        Product 10\n",
              "Month             \n",
              "Jan-88         NaN\n",
              "Feb-88       8.992\n",
              "Mar-88      12.003\n",
              "Apr-88      13.758\n",
              "May-88      12.333\n",
              "...            ...\n",
              "Jun-97      15.534\n",
              "Jul-97      14.637\n",
              "Aug-97      11.111\n",
              "Sep-97      13.488\n",
              "Oct-97      14.727\n",
              "\n",
              "[118 rows x 1 columns]"
            ]
          },
          "metadata": {
            "tags": []
          },
          "execution_count": 39
        }
      ]
    },
    {
      "cell_type": "code",
      "metadata": {
        "id": "nd7e_U3CC-vT",
        "colab_type": "code",
        "colab": {}
      },
      "source": [
        "sales_diff = sales.diff(periods=1)\n",
        "# integrated of order 1, denoted by d (for diff), one of the parameter of ARIMA model\n"
      ],
      "execution_count": null,
      "outputs": []
    },
    {
      "cell_type": "code",
      "metadata": {
        "id": "lGlWtfAXC-va",
        "colab_type": "code",
        "colab": {
          "base_uri": "https://localhost:8080/",
          "height": 225
        },
        "outputId": "2bf1df83-ce48-4785-84b0-5e0a81a89ebe"
      },
      "source": [
        "sales_diff = sales_diff[1:]\n",
        "sales_diff.head()"
      ],
      "execution_count": null,
      "outputs": [
        {
          "output_type": "execute_result",
          "data": {
            "text/html": [
              "<div>\n",
              "<style scoped>\n",
              "    .dataframe tbody tr th:only-of-type {\n",
              "        vertical-align: middle;\n",
              "    }\n",
              "\n",
              "    .dataframe tbody tr th {\n",
              "        vertical-align: top;\n",
              "    }\n",
              "\n",
              "    .dataframe thead th {\n",
              "        text-align: right;\n",
              "    }\n",
              "</style>\n",
              "<table border=\"1\" class=\"dataframe\">\n",
              "  <thead>\n",
              "    <tr style=\"text-align: right;\">\n",
              "      <th></th>\n",
              "      <th>Product 10</th>\n",
              "    </tr>\n",
              "    <tr>\n",
              "      <th>Month</th>\n",
              "      <th></th>\n",
              "    </tr>\n",
              "  </thead>\n",
              "  <tbody>\n",
              "    <tr>\n",
              "      <th>Feb-88</th>\n",
              "      <td>3.011</td>\n",
              "    </tr>\n",
              "    <tr>\n",
              "      <th>Mar-88</th>\n",
              "      <td>1.755</td>\n",
              "    </tr>\n",
              "    <tr>\n",
              "      <th>Apr-88</th>\n",
              "      <td>-1.425</td>\n",
              "    </tr>\n",
              "    <tr>\n",
              "      <th>May-88</th>\n",
              "      <td>-0.979</td>\n",
              "    </tr>\n",
              "    <tr>\n",
              "      <th>Jun-88</th>\n",
              "      <td>0.438</td>\n",
              "    </tr>\n",
              "  </tbody>\n",
              "</table>\n",
              "</div>"
            ],
            "text/plain": [
              "        Product 10\n",
              "Month             \n",
              "Feb-88       3.011\n",
              "Mar-88       1.755\n",
              "Apr-88      -1.425\n",
              "May-88      -0.979\n",
              "Jun-88       0.438"
            ]
          },
          "metadata": {
            "tags": []
          },
          "execution_count": 41
        }
      ]
    },
    {
      "cell_type": "code",
      "metadata": {
        "id": "Qu086WoEC-vk",
        "colab_type": "code",
        "colab": {
          "base_uri": "https://localhost:8080/",
          "height": 545
        },
        "outputId": "7e1bff35-14e3-4c43-edd9-fbe9b9bad3a8"
      },
      "source": [
        "plot_acf(sales_diff)"
      ],
      "execution_count": null,
      "outputs": [
        {
          "output_type": "execute_result",
          "data": {
            "image/png": "[encoded data removed]",
            "text/plain": [
              "<Figure size 432x288 with 1 Axes>"
            ]
          },
          "metadata": {
            "tags": []
          },
          "execution_count": 42
        },
        {
          "output_type": "display_data",
          "data": {
            "image/png": "[encoded data removed]",
            "text/plain": [
              "<Figure size 432x288 with 1 Axes>"
            ]
          },
          "metadata": {
            "tags": [],
            "needs_background": "light"
          }
        }
      ]
    },
    {
      "cell_type": "code",
      "metadata": {
        "id": "WyWLMvqHC-vo",
        "colab_type": "code",
        "colab": {
          "base_uri": "https://localhost:8080/",
          "height": 296
        },
        "outputId": "492baf1a-83a1-4ba5-9ba2-985250ba6541"
      },
      "source": [
        "sales_diff.plot()"
      ],
      "execution_count": null,
      "outputs": [
        {
          "output_type": "execute_result",
          "data": {
            "text/plain": [
              "<matplotlib.axes._subplots.AxesSubplot at 0x7f6e3d221160>"
            ]
          },
          "metadata": {
            "tags": []
          },
          "execution_count": 43
        },
        {
          "output_type": "display_data",
          "data": {
            "image/png": "[encoded data removed]",
            "text/plain": [
              "<Figure size 432x288 with 1 Axes>"
            ]
          },
          "metadata": {
            "tags": [],
            "needs_background": "light"
          }
        }
      ]
    },
    {
      "cell_type": "code",
      "metadata": {
        "id": "7-2pUEtEC-vq",
        "colab_type": "code",
        "colab": {}
      },
      "source": [
        "X = sales.values\n",
        "train = X[0:90] # 99 data as train data\n",
        "test = X[90:]  # rest of data as test data\n",
        "predictions = []"
      ],
      "execution_count": null,
      "outputs": []
    },
    {
      "cell_type": "code",
      "metadata": {
        "id": "rvdpDo88C-vt",
        "colab_type": "code",
        "colab": {
          "base_uri": "https://localhost:8080/",
          "height": 487
        },
        "outputId": "834f7868-48c6-48c9-a391-602fa6ad94d0"
      },
      "source": [
        "test"
      ],
      "execution_count": null,
      "outputs": [
        {
          "output_type": "execute_result",
          "data": {
            "text/plain": [
              "array([[10.464],\n",
              "       [12.078],\n",
              "       [10.605],\n",
              "       [12.585],\n",
              "       [10.526],\n",
              "       [ 9.998],\n",
              "       [12.061],\n",
              "       [12.541],\n",
              "       [13.381],\n",
              "       [12.586],\n",
              "       [12.315],\n",
              "       [11.903],\n",
              "       [11.005],\n",
              "       [11.694],\n",
              "       [13.355],\n",
              "       [14.642],\n",
              "       [12.226],\n",
              "       [ 8.856],\n",
              "       [15.404],\n",
              "       [12.643],\n",
              "       [13.201],\n",
              "       [15.225],\n",
              "       [15.534],\n",
              "       [14.637],\n",
              "       [11.111],\n",
              "       [13.488],\n",
              "       [14.727],\n",
              "       [15.084]])"
            ]
          },
          "metadata": {
            "tags": []
          },
          "execution_count": 45
        }
      ]
    },
    {
      "cell_type": "markdown",
      "metadata": {
        "id": "j8tB6uRXC-v1",
        "colab_type": "text"
      },
      "source": [
        "# Autoreggresive AR Model"
      ]
    },
    {
      "cell_type": "code",
      "metadata": {
        "id": "wy0yZIinC-v2",
        "colab_type": "code",
        "colab": {}
      },
      "source": [
        ""
      ],
      "execution_count": null,
      "outputs": []
    },
    {
      "cell_type": "code",
      "metadata": {
        "id": "zu6bLyFLC-v8",
        "colab_type": "code",
        "colab": {}
      },
      "source": [
        "from statsmodels.tsa.ar_model import AR\n",
        "from sklearn.metrics import mean_squared_error\n",
        "model_ar = AR(train)\n",
        "model_ar_fit = model_ar.fit()"
      ],
      "execution_count": null,
      "outputs": []
    },
    {
      "cell_type": "code",
      "metadata": {
        "id": "mgV-7R_-C-v_",
        "colab_type": "code",
        "colab": {
          "base_uri": "https://localhost:8080/",
          "height": 101
        },
        "outputId": "67b8ff91-0b99-48db-aa03-8259766de732"
      },
      "source": [
        "predictions = model_ar_fit.predict(start=89,end=118)\n",
        "print(predictions)"
      ],
      "execution_count": null,
      "outputs": [
        {
          "output_type": "stream",
          "text": [
            "[13.15371381  9.86231413 13.22103958  9.78977792 11.81421723 10.8994448\n",
            " 10.59287088 13.22079058 10.10489544 12.39006167 10.70923257 10.94179544\n",
            " 12.83358711 10.02219217 13.00479181 10.04922971 11.768957   11.29315023\n",
            " 10.35950408 12.72718579 10.09286242 12.1986098  10.8547225  10.79221192\n",
            " 12.33801794  9.99632849 12.65780243 10.25080478 11.57152975 11.42892021]\n"
          ],
          "name": "stdout"
        }
      ]
    },
    {
      "cell_type": "code",
      "metadata": {
        "id": "Px4g17mPC-wE",
        "colab_type": "code",
        "colab": {
          "base_uri": "https://localhost:8080/",
          "height": 487
        },
        "outputId": "d4dde5b7-fb74-44fe-e7b4-058d1b760b05"
      },
      "source": [
        "test"
      ],
      "execution_count": null,
      "outputs": [
        {
          "output_type": "execute_result",
          "data": {
            "text/plain": [
              "array([[10.464],\n",
              "       [12.078],\n",
              "       [10.605],\n",
              "       [12.585],\n",
              "       [10.526],\n",
              "       [ 9.998],\n",
              "       [12.061],\n",
              "       [12.541],\n",
              "       [13.381],\n",
              "       [12.586],\n",
              "       [12.315],\n",
              "       [11.903],\n",
              "       [11.005],\n",
              "       [11.694],\n",
              "       [13.355],\n",
              "       [14.642],\n",
              "       [12.226],\n",
              "       [ 8.856],\n",
              "       [15.404],\n",
              "       [12.643],\n",
              "       [13.201],\n",
              "       [15.225],\n",
              "       [15.534],\n",
              "       [14.637],\n",
              "       [11.111],\n",
              "       [13.488],\n",
              "       [14.727],\n",
              "       [15.084]])"
            ]
          },
          "metadata": {
            "tags": []
          },
          "execution_count": 48
        }
      ]
    },
    {
      "cell_type": "code",
      "metadata": {
        "id": "T7lVDw0EC-wH",
        "colab_type": "code",
        "colab": {
          "base_uri": "https://localhost:8080/",
          "height": 282
        },
        "outputId": "458e2251-b82f-4753-9f01-6d20dfebcc02"
      },
      "source": [
        "plt.plot(test)\n",
        "plt.plot(predictions,color='red')"
      ],
      "execution_count": null,
      "outputs": [
        {
          "output_type": "execute_result",
          "data": {
            "text/plain": [
              "[<matplotlib.lines.Line2D at 0x7f6e3b9ea8d0>]"
            ]
          },
          "metadata": {
            "tags": []
          },
          "execution_count": 49
        },
        {
          "output_type": "display_data",
          "data": {
            "image/png": "[encoded data removed]",
            "text/plain": [
              "<Figure size 432x288 with 1 Axes>"
            ]
          },
          "metadata": {
            "tags": [],
            "needs_background": "light"
          }
        }
      ]
    },
    {
      "cell_type": "code",
      "metadata": {
        "id": "eRn6kI7WC-wK",
        "colab_type": "code",
        "colab": {
          "base_uri": "https://localhost:8080/",
          "height": 296
        },
        "outputId": "79cad52d-34a4-4054-ddd7-7bc0ca8730f8"
      },
      "source": [
        "sales.plot()"
      ],
      "execution_count": null,
      "outputs": [
        {
          "output_type": "execute_result",
          "data": {
            "text/plain": [
              "<matplotlib.axes._subplots.AxesSubplot at 0x7f6e3b776780>"
            ]
          },
          "metadata": {
            "tags": []
          },
          "execution_count": 50
        },
        {
          "output_type": "display_data",
          "data": {
            "image/png": "[encoded data removed]",
            "text/plain": [
              "<Figure size 432x288 with 1 Axes>"
            ]
          },
          "metadata": {
            "tags": [],
            "needs_background": "light"
          }
        }
      ]
    },
    {
      "cell_type": "markdown",
      "metadata": {
        "id": "5rnVyyyAC-wM",
        "colab_type": "text"
      },
      "source": [
        "# ARIMA model"
      ]
    },
    {
      "cell_type": "code",
      "metadata": {
        "id": "g_7t-l08C-wN",
        "colab_type": "code",
        "colab": {}
      },
      "source": [
        "from statsmodels.tsa.arima_model import ARIMA"
      ],
      "execution_count": null,
      "outputs": []
    },
    {
      "cell_type": "code",
      "metadata": {
        "id": "4eMUysOlC-wQ",
        "colab_type": "code",
        "colab": {
          "base_uri": "https://localhost:8080/",
          "height": 34
        },
        "outputId": "17222a48-141e-420b-8bb5-431d4fc135a4"
      },
      "source": [
        "#p,d,q  p = periods taken for autoregressive model\n",
        "#d -> Integrated order, difference\n",
        "# q periods in moving average model\n",
        "model_arima = ARIMA(train,order=(6, 1, 4))\n",
        "model_arima_fit = model_arima.fit()\n",
        "print(model_arima_fit.aic)"
      ],
      "execution_count": null,
      "outputs": [
        {
          "output_type": "stream",
          "text": [
            "343.7068279905077\n"
          ],
          "name": "stdout"
        }
      ]
    },
    {
      "cell_type": "code",
      "metadata": {
        "id": "souKQOqDC-wa",
        "colab_type": "code",
        "colab": {
          "base_uri": "https://localhost:8080/",
          "height": 151
        },
        "outputId": "4df9381d-35b1-49ce-ca2a-dddf30059bc4"
      },
      "source": [
        "predictions1= model_arima_fit.forecast(steps=38)[0]\n",
        "predictions1"
      ],
      "execution_count": null,
      "outputs": [
        {
          "output_type": "execute_result",
          "data": {
            "text/plain": [
              "array([11.27444225, 13.32303547, 11.07871282, 12.01998577, 12.62053814,\n",
              "       11.23464578, 13.63491871, 11.17090455, 13.09228859, 12.14049272,\n",
              "       11.85893768, 13.34329764, 11.16499904, 13.56613903, 11.64638668,\n",
              "       12.63773038, 12.8596133 , 11.53750074, 13.64994074, 11.35960586,\n",
              "       13.27961291, 12.27427003, 12.15875163, 13.39558835, 11.41748626,\n",
              "       13.65678533, 11.78837594, 12.84776399, 12.90843444, 11.80091831,\n",
              "       13.69785154, 11.55953359, 13.42256826, 12.36135438, 12.39739636,\n",
              "       13.42754091, 11.65637113, 13.74155689])"
            ]
          },
          "metadata": {
            "tags": []
          },
          "execution_count": 60
        }
      ]
    },
    {
      "cell_type": "code",
      "metadata": {
        "id": "8AbHy2TaC-wc",
        "colab_type": "code",
        "colab": {
          "base_uri": "https://localhost:8080/",
          "height": 282
        },
        "outputId": "e7d8d898-6d03-4e38-d049-dfffa257255e"
      },
      "source": [
        "plt.plot(test)\n",
        "plt.plot(predictions1,color='red')"
      ],
      "execution_count": null,
      "outputs": [
        {
          "output_type": "execute_result",
          "data": {
            "text/plain": [
              "[<matplotlib.lines.Line2D at 0x7f6e3b621a58>]"
            ]
          },
          "metadata": {
            "tags": []
          },
          "execution_count": 61
        },
        {
          "output_type": "display_data",
          "data": {
            "image/png": "[encoded data removed]",
            "text/plain": [
              "<Figure size 432x288 with 1 Axes>"
            ]
          },
          "metadata": {
            "tags": [],
            "needs_background": "light"
          }
        }
      ]
    },
    {
      "cell_type": "code",
      "metadata": {
        "id": "n0gOmW6EC-wf",
        "colab_type": "code",
        "colab": {
          "base_uri": "https://localhost:8080/",
          "height": 34
        },
        "outputId": "60be99d8-63dd-4c34-c4af-61683a0b89b0"
      },
      "source": [
        "mean_squared_error(test,predictions1[0:28])"
      ],
      "execution_count": null,
      "outputs": [
        {
          "output_type": "execute_result",
          "data": {
            "text/plain": [
              "2.6347640839578466"
            ]
          },
          "metadata": {
            "tags": []
          },
          "execution_count": 122
        }
      ]
    },
    {
      "cell_type": "code",
      "metadata": {
        "id": "I7FXQMhvC-wh",
        "colab_type": "code",
        "colab": {
          "base_uri": "https://localhost:8080/",
          "height": 1000
        },
        "outputId": "7ab0e580-ae05-4097-bdb7-658ee43eae89"
      },
      "source": [
        "import itertools\n",
        "p=d=q=range(0,8)\n",
        "pdq = list(itertools.product(p,d,q))\n",
        "pdq"
      ],
      "execution_count": null,
      "outputs": [
        {
          "output_type": "execute_result",
          "data": {
            "text/plain": [
              "[(0, 0, 0),\n",
              " (0, 0, 1),\n",
              " (0, 0, 2),\n",
              " (0, 0, 3),\n",
              " (0, 0, 4),\n",
              " (0, 0, 5),\n",
              " (0, 0, 6),\n",
              " (0, 0, 7),\n",
              " (0, 1, 0),\n",
              " (0, 1, 1),\n",
              " (0, 1, 2),\n",
              " (0, 1, 3),\n",
              " (0, 1, 4),\n",
              " (0, 1, 5),\n",
              " (0, 1, 6),\n",
              " (0, 1, 7),\n",
              " (0, 2, 0),\n",
              " (0, 2, 1),\n",
              " (0, 2, 2),\n",
              " (0, 2, 3),\n",
              " (0, 2, 4),\n",
              " (0, 2, 5),\n",
              " (0, 2, 6),\n",
              " (0, 2, 7),\n",
              " (0, 3, 0),\n",
              " (0, 3, 1),\n",
              " (0, 3, 2),\n",
              " (0, 3, 3),\n",
              " (0, 3, 4),\n",
              " (0, 3, 5),\n",
              " (0, 3, 6),\n",
              " (0, 3, 7),\n",
              " (0, 4, 0),\n",
              " (0, 4, 1),\n",
              " (0, 4, 2),\n",
              " (0, 4, 3),\n",
              " (0, 4, 4),\n",
              " (0, 4, 5),\n",
              " (0, 4, 6),\n",
              " (0, 4, 7),\n",
              " (0, 5, 0),\n",
              " (0, 5, 1),\n",
              " (0, 5, 2),\n",
              " (0, 5, 3),\n",
              " (0, 5, 4),\n",
              " (0, 5, 5),\n",
              " (0, 5, 6),\n",
              " (0, 5, 7),\n",
              " (0, 6, 0),\n",
              " (0, 6, 1),\n",
              " (0, 6, 2),\n",
              " (0, 6, 3),\n",
              " (0, 6, 4),\n",
              " (0, 6, 5),\n",
              " (0, 6, 6),\n",
              " (0, 6, 7),\n",
              " (0, 7, 0),\n",
              " (0, 7, 1),\n",
              " (0, 7, 2),\n",
              " (0, 7, 3),\n",
              " (0, 7, 4),\n",
              " (0, 7, 5),\n",
              " (0, 7, 6),\n",
              " (0, 7, 7),\n",
              " (1, 0, 0),\n",
              " (1, 0, 1),\n",
              " (1, 0, 2),\n",
              " (1, 0, 3),\n",
              " (1, 0, 4),\n",
              " (1, 0, 5),\n",
              " (1, 0, 6),\n",
              " (1, 0, 7),\n",
              " (1, 1, 0),\n",
              " (1, 1, 1),\n",
              " (1, 1, 2),\n",
              " (1, 1, 3),\n",
              " (1, 1, 4),\n",
              " (1, 1, 5),\n",
              " (1, 1, 6),\n",
              " (1, 1, 7),\n",
              " (1, 2, 0),\n",
              " (1, 2, 1),\n",
              " (1, 2, 2),\n",
              " (1, 2, 3),\n",
              " (1, 2, 4),\n",
              " (1, 2, 5),\n",
              " (1, 2, 6),\n",
              " (1, 2, 7),\n",
              " (1, 3, 0),\n",
              " (1, 3, 1),\n",
              " (1, 3, 2),\n",
              " (1, 3, 3),\n",
              " (1, 3, 4),\n",
              " (1, 3, 5),\n",
              " (1, 3, 6),\n",
              " (1, 3, 7),\n",
              " (1, 4, 0),\n",
              " (1, 4, 1),\n",
              " (1, 4, 2),\n",
              " (1, 4, 3),\n",
              " (1, 4, 4),\n",
              " (1, 4, 5),\n",
              " (1, 4, 6),\n",
              " (1, 4, 7),\n",
              " (1, 5, 0),\n",
              " (1, 5, 1),\n",
              " (1, 5, 2),\n",
              " (1, 5, 3),\n",
              " (1, 5, 4),\n",
              " (1, 5, 5),\n",
              " (1, 5, 6),\n",
              " (1, 5, 7),\n",
              " (1, 6, 0),\n",
              " (1, 6, 1),\n",
              " (1, 6, 2),\n",
              " (1, 6, 3),\n",
              " (1, 6, 4),\n",
              " (1, 6, 5),\n",
              " (1, 6, 6),\n",
              " (1, 6, 7),\n",
              " (1, 7, 0),\n",
              " (1, 7, 1),\n",
              " (1, 7, 2),\n",
              " (1, 7, 3),\n",
              " (1, 7, 4),\n",
              " (1, 7, 5),\n",
              " (1, 7, 6),\n",
              " (1, 7, 7),\n",
              " (2, 0, 0),\n",
              " (2, 0, 1),\n",
              " (2, 0, 2),\n",
              " (2, 0, 3),\n",
              " (2, 0, 4),\n",
              " (2, 0, 5),\n",
              " (2, 0, 6),\n",
              " (2, 0, 7),\n",
              " (2, 1, 0),\n",
              " (2, 1, 1),\n",
              " (2, 1, 2),\n",
              " (2, 1, 3),\n",
              " (2, 1, 4),\n",
              " (2, 1, 5),\n",
              " (2, 1, 6),\n",
              " (2, 1, 7),\n",
              " (2, 2, 0),\n",
              " (2, 2, 1),\n",
              " (2, 2, 2),\n",
              " (2, 2, 3),\n",
              " (2, 2, 4),\n",
              " (2, 2, 5),\n",
              " (2, 2, 6),\n",
              " (2, 2, 7),\n",
              " (2, 3, 0),\n",
              " (2, 3, 1),\n",
              " (2, 3, 2),\n",
              " (2, 3, 3),\n",
              " (2, 3, 4),\n",
              " (2, 3, 5),\n",
              " (2, 3, 6),\n",
              " (2, 3, 7),\n",
              " (2, 4, 0),\n",
              " (2, 4, 1),\n",
              " (2, 4, 2),\n",
              " (2, 4, 3),\n",
              " (2, 4, 4),\n",
              " (2, 4, 5),\n",
              " (2, 4, 6),\n",
              " (2, 4, 7),\n",
              " (2, 5, 0),\n",
              " (2, 5, 1),\n",
              " (2, 5, 2),\n",
              " (2, 5, 3),\n",
              " (2, 5, 4),\n",
              " (2, 5, 5),\n",
              " (2, 5, 6),\n",
              " (2, 5, 7),\n",
              " (2, 6, 0),\n",
              " (2, 6, 1),\n",
              " (2, 6, 2),\n",
              " (2, 6, 3),\n",
              " (2, 6, 4),\n",
              " (2, 6, 5),\n",
              " (2, 6, 6),\n",
              " (2, 6, 7),\n",
              " (2, 7, 0),\n",
              " (2, 7, 1),\n",
              " (2, 7, 2),\n",
              " (2, 7, 3),\n",
              " (2, 7, 4),\n",
              " (2, 7, 5),\n",
              " (2, 7, 6),\n",
              " (2, 7, 7),\n",
              " (3, 0, 0),\n",
              " (3, 0, 1),\n",
              " (3, 0, 2),\n",
              " (3, 0, 3),\n",
              " (3, 0, 4),\n",
              " (3, 0, 5),\n",
              " (3, 0, 6),\n",
              " (3, 0, 7),\n",
              " (3, 1, 0),\n",
              " (3, 1, 1),\n",
              " (3, 1, 2),\n",
              " (3, 1, 3),\n",
              " (3, 1, 4),\n",
              " (3, 1, 5),\n",
              " (3, 1, 6),\n",
              " (3, 1, 7),\n",
              " (3, 2, 0),\n",
              " (3, 2, 1),\n",
              " (3, 2, 2),\n",
              " (3, 2, 3),\n",
              " (3, 2, 4),\n",
              " (3, 2, 5),\n",
              " (3, 2, 6),\n",
              " (3, 2, 7),\n",
              " (3, 3, 0),\n",
              " (3, 3, 1),\n",
              " (3, 3, 2),\n",
              " (3, 3, 3),\n",
              " (3, 3, 4),\n",
              " (3, 3, 5),\n",
              " (3, 3, 6),\n",
              " (3, 3, 7),\n",
              " (3, 4, 0),\n",
              " (3, 4, 1),\n",
              " (3, 4, 2),\n",
              " (3, 4, 3),\n",
              " (3, 4, 4),\n",
              " (3, 4, 5),\n",
              " (3, 4, 6),\n",
              " (3, 4, 7),\n",
              " (3, 5, 0),\n",
              " (3, 5, 1),\n",
              " (3, 5, 2),\n",
              " (3, 5, 3),\n",
              " (3, 5, 4),\n",
              " (3, 5, 5),\n",
              " (3, 5, 6),\n",
              " (3, 5, 7),\n",
              " (3, 6, 0),\n",
              " (3, 6, 1),\n",
              " (3, 6, 2),\n",
              " (3, 6, 3),\n",
              " (3, 6, 4),\n",
              " (3, 6, 5),\n",
              " (3, 6, 6),\n",
              " (3, 6, 7),\n",
              " (3, 7, 0),\n",
              " (3, 7, 1),\n",
              " (3, 7, 2),\n",
              " (3, 7, 3),\n",
              " (3, 7, 4),\n",
              " (3, 7, 5),\n",
              " (3, 7, 6),\n",
              " (3, 7, 7),\n",
              " (4, 0, 0),\n",
              " (4, 0, 1),\n",
              " (4, 0, 2),\n",
              " (4, 0, 3),\n",
              " (4, 0, 4),\n",
              " (4, 0, 5),\n",
              " (4, 0, 6),\n",
              " (4, 0, 7),\n",
              " (4, 1, 0),\n",
              " (4, 1, 1),\n",
              " (4, 1, 2),\n",
              " (4, 1, 3),\n",
              " (4, 1, 4),\n",
              " (4, 1, 5),\n",
              " (4, 1, 6),\n",
              " (4, 1, 7),\n",
              " (4, 2, 0),\n",
              " (4, 2, 1),\n",
              " (4, 2, 2),\n",
              " (4, 2, 3),\n",
              " (4, 2, 4),\n",
              " (4, 2, 5),\n",
              " (4, 2, 6),\n",
              " (4, 2, 7),\n",
              " (4, 3, 0),\n",
              " (4, 3, 1),\n",
              " (4, 3, 2),\n",
              " (4, 3, 3),\n",
              " (4, 3, 4),\n",
              " (4, 3, 5),\n",
              " (4, 3, 6),\n",
              " (4, 3, 7),\n",
              " (4, 4, 0),\n",
              " (4, 4, 1),\n",
              " (4, 4, 2),\n",
              " (4, 4, 3),\n",
              " (4, 4, 4),\n",
              " (4, 4, 5),\n",
              " (4, 4, 6),\n",
              " (4, 4, 7),\n",
              " (4, 5, 0),\n",
              " (4, 5, 1),\n",
              " (4, 5, 2),\n",
              " (4, 5, 3),\n",
              " (4, 5, 4),\n",
              " (4, 5, 5),\n",
              " (4, 5, 6),\n",
              " (4, 5, 7),\n",
              " (4, 6, 0),\n",
              " (4, 6, 1),\n",
              " (4, 6, 2),\n",
              " (4, 6, 3),\n",
              " (4, 6, 4),\n",
              " (4, 6, 5),\n",
              " (4, 6, 6),\n",
              " (4, 6, 7),\n",
              " (4, 7, 0),\n",
              " (4, 7, 1),\n",
              " (4, 7, 2),\n",
              " (4, 7, 3),\n",
              " (4, 7, 4),\n",
              " (4, 7, 5),\n",
              " (4, 7, 6),\n",
              " (4, 7, 7),\n",
              " (5, 0, 0),\n",
              " (5, 0, 1),\n",
              " (5, 0, 2),\n",
              " (5, 0, 3),\n",
              " (5, 0, 4),\n",
              " (5, 0, 5),\n",
              " (5, 0, 6),\n",
              " (5, 0, 7),\n",
              " (5, 1, 0),\n",
              " (5, 1, 1),\n",
              " (5, 1, 2),\n",
              " (5, 1, 3),\n",
              " (5, 1, 4),\n",
              " (5, 1, 5),\n",
              " (5, 1, 6),\n",
              " (5, 1, 7),\n",
              " (5, 2, 0),\n",
              " (5, 2, 1),\n",
              " (5, 2, 2),\n",
              " (5, 2, 3),\n",
              " (5, 2, 4),\n",
              " (5, 2, 5),\n",
              " (5, 2, 6),\n",
              " (5, 2, 7),\n",
              " (5, 3, 0),\n",
              " (5, 3, 1),\n",
              " (5, 3, 2),\n",
              " (5, 3, 3),\n",
              " (5, 3, 4),\n",
              " (5, 3, 5),\n",
              " (5, 3, 6),\n",
              " (5, 3, 7),\n",
              " (5, 4, 0),\n",
              " (5, 4, 1),\n",
              " (5, 4, 2),\n",
              " (5, 4, 3),\n",
              " (5, 4, 4),\n",
              " (5, 4, 5),\n",
              " (5, 4, 6),\n",
              " (5, 4, 7),\n",
              " (5, 5, 0),\n",
              " (5, 5, 1),\n",
              " (5, 5, 2),\n",
              " (5, 5, 3),\n",
              " (5, 5, 4),\n",
              " (5, 5, 5),\n",
              " (5, 5, 6),\n",
              " (5, 5, 7),\n",
              " (5, 6, 0),\n",
              " (5, 6, 1),\n",
              " (5, 6, 2),\n",
              " (5, 6, 3),\n",
              " (5, 6, 4),\n",
              " (5, 6, 5),\n",
              " (5, 6, 6),\n",
              " (5, 6, 7),\n",
              " (5, 7, 0),\n",
              " (5, 7, 1),\n",
              " (5, 7, 2),\n",
              " (5, 7, 3),\n",
              " (5, 7, 4),\n",
              " (5, 7, 5),\n",
              " (5, 7, 6),\n",
              " (5, 7, 7),\n",
              " (6, 0, 0),\n",
              " (6, 0, 1),\n",
              " (6, 0, 2),\n",
              " (6, 0, 3),\n",
              " (6, 0, 4),\n",
              " (6, 0, 5),\n",
              " (6, 0, 6),\n",
              " (6, 0, 7),\n",
              " (6, 1, 0),\n",
              " (6, 1, 1),\n",
              " (6, 1, 2),\n",
              " (6, 1, 3),\n",
              " (6, 1, 4),\n",
              " (6, 1, 5),\n",
              " (6, 1, 6),\n",
              " (6, 1, 7),\n",
              " (6, 2, 0),\n",
              " (6, 2, 1),\n",
              " (6, 2, 2),\n",
              " (6, 2, 3),\n",
              " (6, 2, 4),\n",
              " (6, 2, 5),\n",
              " (6, 2, 6),\n",
              " (6, 2, 7),\n",
              " (6, 3, 0),\n",
              " (6, 3, 1),\n",
              " (6, 3, 2),\n",
              " (6, 3, 3),\n",
              " (6, 3, 4),\n",
              " (6, 3, 5),\n",
              " (6, 3, 6),\n",
              " (6, 3, 7),\n",
              " (6, 4, 0),\n",
              " (6, 4, 1),\n",
              " (6, 4, 2),\n",
              " (6, 4, 3),\n",
              " (6, 4, 4),\n",
              " (6, 4, 5),\n",
              " (6, 4, 6),\n",
              " (6, 4, 7),\n",
              " (6, 5, 0),\n",
              " (6, 5, 1),\n",
              " (6, 5, 2),\n",
              " (6, 5, 3),\n",
              " (6, 5, 4),\n",
              " (6, 5, 5),\n",
              " (6, 5, 6),\n",
              " (6, 5, 7),\n",
              " (6, 6, 0),\n",
              " (6, 6, 1),\n",
              " (6, 6, 2),\n",
              " (6, 6, 3),\n",
              " (6, 6, 4),\n",
              " (6, 6, 5),\n",
              " (6, 6, 6),\n",
              " (6, 6, 7),\n",
              " (6, 7, 0),\n",
              " (6, 7, 1),\n",
              " (6, 7, 2),\n",
              " (6, 7, 3),\n",
              " (6, 7, 4),\n",
              " (6, 7, 5),\n",
              " (6, 7, 6),\n",
              " (6, 7, 7),\n",
              " (7, 0, 0),\n",
              " (7, 0, 1),\n",
              " (7, 0, 2),\n",
              " (7, 0, 3),\n",
              " (7, 0, 4),\n",
              " (7, 0, 5),\n",
              " (7, 0, 6),\n",
              " (7, 0, 7),\n",
              " (7, 1, 0),\n",
              " (7, 1, 1),\n",
              " (7, 1, 2),\n",
              " (7, 1, 3),\n",
              " (7, 1, 4),\n",
              " (7, 1, 5),\n",
              " (7, 1, 6),\n",
              " (7, 1, 7),\n",
              " (7, 2, 0),\n",
              " (7, 2, 1),\n",
              " (7, 2, 2),\n",
              " (7, 2, 3),\n",
              " (7, 2, 4),\n",
              " (7, 2, 5),\n",
              " (7, 2, 6),\n",
              " (7, 2, 7),\n",
              " (7, 3, 0),\n",
              " (7, 3, 1),\n",
              " (7, 3, 2),\n",
              " (7, 3, 3),\n",
              " (7, 3, 4),\n",
              " (7, 3, 5),\n",
              " (7, 3, 6),\n",
              " (7, 3, 7),\n",
              " (7, 4, 0),\n",
              " (7, 4, 1),\n",
              " (7, 4, 2),\n",
              " (7, 4, 3),\n",
              " (7, 4, 4),\n",
              " (7, 4, 5),\n",
              " (7, 4, 6),\n",
              " (7, 4, 7),\n",
              " (7, 5, 0),\n",
              " (7, 5, 1),\n",
              " (7, 5, 2),\n",
              " (7, 5, 3),\n",
              " (7, 5, 4),\n",
              " (7, 5, 5),\n",
              " (7, 5, 6),\n",
              " (7, 5, 7),\n",
              " (7, 6, 0),\n",
              " (7, 6, 1),\n",
              " (7, 6, 2),\n",
              " (7, 6, 3),\n",
              " (7, 6, 4),\n",
              " (7, 6, 5),\n",
              " (7, 6, 6),\n",
              " (7, 6, 7),\n",
              " (7, 7, 0),\n",
              " (7, 7, 1),\n",
              " (7, 7, 2),\n",
              " (7, 7, 3),\n",
              " (7, 7, 4),\n",
              " (7, 7, 5),\n",
              " (7, 7, 6),\n",
              " (7, 7, 7)]"
            ]
          },
          "metadata": {
            "tags": []
          },
          "execution_count": 50
        }
      ]
    },
    {
      "cell_type": "code",
      "metadata": {
        "id": "KKPKpEIlC-wn",
        "colab_type": "code",
        "colab": {
          "base_uri": "https://localhost:8080/",
          "height": 1000
        },
        "outputId": "a6f3c49d-1b3b-41e1-9c6b-83bcf4c859f0"
      },
      "source": [
        "import warnings\n",
        "warnings.filterwarnings('ignore')\n",
        "for param in pdq:\n",
        "    try:\n",
        "        model_arima = ARIMA(train,order=param)\n",
        "        model_arima_fit = model_arima.fit()\n",
        "        print(param,model_arima_fit.aic)\n",
        "        \n",
        "    except:\n",
        "        continue\n",
        "    "
      ],
      "execution_count": null,
      "outputs": [
        {
          "output_type": "stream",
          "text": [
            "(0, 0, 0) 362.1155718026838\n",
            "(0, 0, 1) 363.4728579668579\n",
            "(0, 0, 2) 357.04069718100686\n",
            "(0, 0, 3) 358.3339100485842\n",
            "(0, 0, 4) 360.1224138392672\n",
            "(0, 0, 5) 358.3590404765969\n",
            "(0, 0, 6) 360.33858906251805\n",
            "(0, 0, 7) 356.99530474618314\n",
            "(0, 1, 0) 408.6094541200971\n",
            "(0, 1, 1) 357.6389400594278\n",
            "(0, 1, 2) 358.85894919368695\n",
            "(0, 2, 0) 505.79798022985915\n",
            "(0, 2, 1) 411.5264086199002\n",
            "(1, 0, 0) 363.11619748113907\n",
            "(1, 0, 1) 359.3199237748853\n",
            "(1, 0, 2) 358.3907119545137\n",
            "(1, 1, 0) 372.34498994262157\n",
            "(1, 1, 1) 358.6362465200255\n",
            "(1, 1, 2) 359.90925600874607\n",
            "(1, 1, 3) 359.2147374674257\n",
            "(1, 1, 4) 362.7097648648141\n",
            "(1, 1, 5) 357.0564746730356\n",
            "(1, 1, 6) 359.0377554444081\n",
            "(1, 1, 7) 358.21522191245816\n",
            "(1, 2, 0) 431.468755430501\n",
            "(1, 2, 1) 376.5374057331875\n",
            "(2, 0, 0) 358.3476222730365\n",
            "(2, 0, 1) 360.22979166926206\n",
            "(2, 0, 2) 359.8784550504711\n",
            "(2, 1, 0) 370.9315218912335\n",
            "(2, 1, 1) 359.32596707625305\n",
            "(2, 1, 2) 361.10743027494493\n",
            "(2, 1, 3) 348.6304884939623\n",
            "(2, 1, 4) 348.2895590410019\n",
            "(2, 1, 5) 345.0351249229575\n",
            "(2, 1, 6) 342.49253179781823\n",
            "(2, 1, 7) 350.5006431740642\n",
            "(2, 2, 0) 411.13756718530783\n",
            "(2, 2, 1) 375.45206116388766\n",
            "(3, 0, 0) 360.34706872950323\n",
            "(3, 0, 1) 360.89549459744865\n",
            "(3, 0, 2) 343.9408625635052\n",
            "(3, 1, 0) 371.7549315301926\n",
            "(3, 1, 1) 360.13731685166033\n",
            "(3, 1, 2) 357.0033090281584\n",
            "(3, 1, 3) 373.00892941049017\n",
            "(3, 1, 4) 366.58479308782205\n",
            "(3, 1, 7) 351.24226216638897\n",
            "(3, 2, 0) 411.8991230349618\n",
            "(3, 2, 1) 376.4308217609458\n",
            "(4, 0, 0) 361.96402412280986\n",
            "(4, 0, 1) 359.7508756879283\n",
            "(4, 0, 2) 345.7463768457105\n",
            "(4, 1, 0) 353.8175061060242\n",
            "(4, 1, 1) 354.23119320128274\n",
            "(4, 1, 2) 353.8770904617537\n",
            "(4, 1, 5) 369.72483674170445\n",
            "(4, 1, 7) 352.6675876705955\n",
            "(4, 2, 0) 391.60276478713183\n",
            "(4, 2, 1) 359.0418057684762\n",
            "(5, 0, 0) 352.56666744537677\n",
            "(5, 0, 1) 354.49190419001656\n",
            "(5, 0, 2) 355.44144008319756\n",
            "(5, 0, 3) 347.81378173449906\n",
            "(5, 0, 4) 375.8915200383702\n",
            "(5, 1, 0) 355.4651952038989\n",
            "(5, 1, 1) 357.9772271983187\n",
            "(5, 1, 2) 355.6021084553653\n",
            "(5, 1, 4) 361.20207777826687\n",
            "(5, 1, 5) 363.72658666969886\n",
            "(5, 1, 7) 378.0624833374693\n",
            "(5, 2, 0) 389.30011506685815\n",
            "(5, 2, 1) 360.6861222886188\n",
            "(5, 2, 2) 355.7192695026952\n",
            "(6, 0, 0) 354.5542208428397\n",
            "(6, 0, 1) 356.3355688517378\n",
            "(6, 0, 2) 370.4575283418752\n",
            "(6, 1, 0) 353.3517109359326\n",
            "(6, 1, 1) 355.2536889879759\n",
            "(6, 1, 2) 349.4244602889727\n",
            "(6, 1, 3) 341.66468222866183\n",
            "(6, 1, 4) 343.7068279905077\n",
            "(6, 1, 5) 351.4450319875606\n",
            "(6, 1, 6) 344.55913003885615\n",
            "(6, 1, 7) 341.7952900970187\n",
            "(6, 2, 0) 381.475132653073\n",
            "(6, 2, 1) 358.58809882407405\n",
            "(6, 2, 2) 360.4861292222295\n",
            "(7, 0, 0) 354.32478124937813\n",
            "(7, 0, 1) 356.323589063467\n",
            "(7, 0, 2) 349.0834718041097\n",
            "(7, 0, 4) 345.58549873881174\n",
            "(7, 0, 5) 348.03367336605277\n",
            "(7, 0, 6) 361.69912615086275\n",
            "(7, 1, 0) 355.15652261529266\n",
            "(7, 1, 1) 357.7068767216003\n",
            "(7, 1, 3) 363.036683542196\n",
            "(7, 1, 4) 411.7790248353276\n",
            "(7, 1, 5) 366.8268698337201\n",
            "(7, 1, 6) 365.1768034515555\n",
            "(7, 2, 0) 370.41892456252623\n",
            "(7, 2, 1) 391.3939552558751\n",
            "(7, 2, 2) 362.9771027497501\n"
          ],
          "name": "stdout"
        }
      ]
    },
    {
      "cell_type": "code",
      "metadata": {
        "id": "ZB8C-Eg6C-wq",
        "colab_type": "code",
        "colab": {}
      },
      "source": [
        ""
      ],
      "execution_count": null,
      "outputs": []
    }
  ]
}